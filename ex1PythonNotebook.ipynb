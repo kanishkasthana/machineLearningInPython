{
 "cells": [
  {
   "cell_type": "code",
   "execution_count": 1,
   "metadata": {
    "collapsed": true
   },
   "outputs": [],
   "source": [
    "#This should allow inline plotting\n",
    "%matplotlib inline"
   ]
  },
  {
   "cell_type": "code",
   "execution_count": 2,
   "metadata": {
    "collapsed": true
   },
   "outputs": [],
   "source": [
    "#Imports\n",
    "import matplotlib.pyplot as plt\n",
    "import pandas as pd\n",
    "import numpy as np"
   ]
  },
  {
   "cell_type": "code",
   "execution_count": 3,
   "metadata": {
    "collapsed": false
   },
   "outputs": [
    {
     "name": "stdout",
     "output_type": "stream",
     "text": [
      "        x        y\n",
      "0  6.1101  17.5920\n",
      "1  5.5277   9.1302\n",
      "2  8.5186  13.6620\n",
      "3  7.0032  11.8540\n",
      "4  5.8598   6.8233\n"
     ]
    }
   ],
   "source": [
    "#Reading in Data for problem\n",
    "data=pd.read_csv(\"ex1data1.txt\", header=None)\n",
    "#Renaming Columns\n",
    "data.columns=['x','y']\n",
    "#Printing a sample to see if everything worked correctly\n",
    "print(data.head())"
   ]
  },
  {
   "cell_type": "code",
   "execution_count": 4,
   "metadata": {
    "collapsed": false
   },
   "outputs": [
    {
     "name": "stdout",
     "output_type": "stream",
     "text": [
      "0    6.1101\n",
      "1    5.5277\n",
      "2    8.5186\n",
      "3    7.0032\n",
      "4    5.8598\n",
      "5    8.3829\n",
      "6    7.4764\n",
      "7    8.5781\n",
      "8    6.4862\n",
      "9    5.0546\n",
      "Name: x, dtype: float64 0    17.5920\n",
      "1     9.1302\n",
      "2    13.6620\n",
      "3    11.8540\n",
      "4     6.8233\n",
      "5    11.8860\n",
      "6     4.3483\n",
      "7    12.0000\n",
      "8     6.5987\n",
      "9     3.8166\n",
      "Name: y, dtype: float64\n"
     ]
    }
   ],
   "source": [
    "x=data.iloc[:,0]\n",
    "y=data.iloc[:,1]\n",
    "#Printing a sample\n",
    "print(x[0:10],y[0:10])"
   ]
  },
  {
   "cell_type": "code",
   "execution_count": 5,
   "metadata": {
    "collapsed": false
   },
   "outputs": [
    {
     "data": {
      "text/plain": [
       "<matplotlib.text.Text at 0x7efc6d3db860>"
      ]
     },
     "execution_count": 5,
     "metadata": {},
     "output_type": "execute_result"
    },
    {
     "data": {
      "image/png": "[encoded data removed]",
      "text/plain": [
       "<matplotlib.figure.Figure at 0x7efc5454b278>"
      ]
     },
     "metadata": {},
     "output_type": "display_data"
    }
   ],
   "source": [
    "plt.plot(x,y,'rx')\n",
    "plt.ylabel('Profit in $10,000s')\n",
    "plt.xlabel('Population of City in 10,000s')"
   ]
  },
  {
   "cell_type": "code",
   "execution_count": null,
   "metadata": {
    "collapsed": true
   },
   "outputs": [],
   "source": []
  }
 ],
 "metadata": {
  "kernelspec": {
   "display_name": "Python 3",
   "language": "python",
   "name": "python3"
  },
  "language_info": {
   "codemirror_mode": {
    "name": "ipython",
    "version": 3
   },
   "file_extension": ".py",
   "mimetype": "text/x-python",
   "name": "python",
   "nbconvert_exporter": "python",
   "pygments_lexer": "ipython3",
   "version": "3.5.0"
  }
 },
 "nbformat": 4,
 "nbformat_minor": 0
}
